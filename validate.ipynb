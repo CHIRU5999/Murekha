{
  "cells": [
    {
      "cell_type": "code",
      "metadata": {},
      "source": [
        "!pip -q install lxml\n",
        "from lxml import etree\n"
      ],
      "outputs": [],
      "execution_count": null
    },
    {
      "cell_type": "code",
      "metadata": {},
      "source": [
        "with open(\"domain.dtd\",\"rb\") as f:\n",
        "    dtd = etree.DTD(f)\n",
        "\n",
        "ok = etree.parse(\"sample.xml\")\n",
        "bad = etree.parse(\"broken.xml\")\n",
        "\n",
        "print(\"sample.xml \u2192\", \"VALID \u2705\" if dtd.validate(ok) else \"NOT valid \u274c\")\n",
        "print(\"broken.xml \u2192\", \"VALID \u2705\" if dtd.validate(bad) else \"NOT valid \u274c\")\n",
        "print(\"\\nErrors (broken):\")\n",
        "for e in dtd.error_log:\n",
        "    print(\"\u2022\", e)\n"
      ],
      "outputs": [],
      "execution_count": null
    }
  ],
  "metadata": {
    "kernelspec": {
      "display_name": "Python 3",
      "language": "python",
      "name": "python3"
    },
    "language_info": {
      "name": "python",
      "version": "3.x"
    }
  },
  "nbformat": 4,
  "nbformat_minor": 5
}